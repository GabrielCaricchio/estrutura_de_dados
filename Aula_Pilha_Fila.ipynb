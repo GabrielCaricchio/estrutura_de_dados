{
  "nbformat": 4,
  "nbformat_minor": 0,
  "metadata": {
    "colab": {
      "provenance": [],
      "authorship_tag": "ABX9TyMJpWsBsBIe3dCyNf6I73mo",
      "include_colab_link": true
    },
    "kernelspec": {
      "name": "python3",
      "display_name": "Python 3"
    },
    "language_info": {
      "name": "python"
    }
  },
  "cells": [
    {
      "cell_type": "markdown",
      "metadata": {
        "id": "view-in-github",
        "colab_type": "text"
      },
      "source": [
        "<a href=\"https://colab.research.google.com/github/clovesrocha/estruturadedados_uninassauolinda/blob/main/Aula_Pilha_Fila.ipynb\" target=\"_parent\"><img src=\"https://colab.research.google.com/assets/colab-badge.svg\" alt=\"Open In Colab\"/></a>"
      ]
    },
    {
      "cell_type": "code",
      "execution_count": 1,
      "metadata": {
        "id": "XZxAle86skbk"
      },
      "outputs": [],
      "source": [
        "# UNIDADE III\n",
        "\n",
        "class Pilha:\n",
        "    def __init__(self):\n",
        "        self.items = []"
      ]
    },
    {
      "cell_type": "code",
      "source": [
        "def push(self, item):\n",
        "    self.items.append(item)\n",
        "    return True"
      ],
      "metadata": {
        "id": "XvcAVYRqsxi6"
      },
      "execution_count": 2,
      "outputs": []
    },
    {
      "cell_type": "code",
      "source": [
        "def pop(self):\n",
        "    if not self.is_empty():\n",
        "        return self.items.pop()\n",
        "    return None"
      ],
      "metadata": {
        "id": "fb9Oe6Tis6U-"
      },
      "execution_count": 3,
      "outputs": []
    },
    {
      "cell_type": "code",
      "source": [
        "def peek(self):\n",
        "    return self.items[-1] if self.items else None\n",
        "\n",
        "def is_empty(self):\n",
        "    return len(self.items) == 0\n",
        "\n",
        "def size(self):\n",
        "    return len(self.items)"
      ],
      "metadata": {
        "id": "a2xDY0TOtCUv"
      },
      "execution_count": 4,
      "outputs": []
    }
  ]
}