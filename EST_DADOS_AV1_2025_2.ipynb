{
  "nbformat": 4,
  "nbformat_minor": 0,
  "metadata": {
    "colab": {
      "provenance": [],
      "authorship_tag": "ABX9TyO082ztGMrGFAeI/nHnWI4d",
      "include_colab_link": true
    },
    "kernelspec": {
      "name": "python3",
      "display_name": "Python 3"
    },
    "language_info": {
      "name": "python"
    }
  },
  "cells": [
    {
      "cell_type": "markdown",
      "metadata": {
        "id": "view-in-github",
        "colab_type": "text"
      },
      "source": [
        "<a href=\"https://colab.research.google.com/github/clovesrocha/estruturadedados_uninassauolinda/blob/main/EST_DADOS_AV1_2025_2.ipynb\" target=\"_parent\"><img src=\"https://colab.research.google.com/assets/colab-badge.svg\" alt=\"Open In Colab\"/></a>"
      ]
    },
    {
      "cell_type": "code",
      "source": [
        "# QUESTÃO 4 -\n",
        "valores = [1, 2, 3, 4]\n",
        "print(len(valores))"
      ],
      "metadata": {
        "colab": {
          "base_uri": "https://localhost:8080/"
        },
        "id": "VCirxFbPlU0p",
        "outputId": "d2287c1c-1dc3-4412-93cf-5285c8de07f6"
      },
      "execution_count": 11,
      "outputs": [
        {
          "output_type": "stream",
          "name": "stdout",
          "text": [
            "4\n"
          ]
        }
      ]
    },
    {
      "cell_type": "code",
      "execution_count": 5,
      "metadata": {
        "colab": {
          "base_uri": "https://localhost:8080/"
        },
        "id": "83LhaSBqjQzE",
        "outputId": "8faac846-9145-40e4-aea5-ba6434ad54e0"
      },
      "outputs": [
        {
          "output_type": "stream",
          "name": "stdout",
          "text": [
            "10\n"
          ]
        }
      ],
      "source": [
        "#Questão 9\n",
        "valores = [2, 4, 6, 8, 10]\n",
        "print(valores[len(valores) -1])"
      ]
    },
    {
      "cell_type": "code",
      "source": [
        "#Questão 8\n",
        "\n",
        "lista = [1, 2, 3]\n",
        "lista [1] = 99\n",
        "print(lista)"
      ],
      "metadata": {
        "colab": {
          "base_uri": "https://localhost:8080/"
        },
        "id": "3mYbBWEQmfcY",
        "outputId": "77eafea9-b74a-495a-fc9e-f48f506d325c"
      },
      "execution_count": 12,
      "outputs": [
        {
          "output_type": "stream",
          "name": "stdout",
          "text": [
            "[1, 99, 3]\n"
          ]
        }
      ]
    },
    {
      "cell_type": "code",
      "source": [
        "#Questão 10 ANULADA - codigo nao sai alternativas da prova!\n",
        "\n",
        "\n",
        "def contar(n):\n",
        "  if n == 0:\n",
        "      return\n",
        "  print(n)\n",
        "  contar(n-1)"
      ],
      "metadata": {
        "id": "U-dYumVEkBaD"
      },
      "execution_count": 13,
      "outputs": []
    },
    {
      "cell_type": "code",
      "source": [],
      "metadata": {
        "id": "bhLQ_pUslRk2"
      },
      "execution_count": null,
      "outputs": []
    }
  ]
}