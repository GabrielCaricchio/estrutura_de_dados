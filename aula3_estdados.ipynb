{
  "nbformat": 4,
  "nbformat_minor": 0,
  "metadata": {
    "colab": {
      "provenance": [],
      "authorship_tag": "ABX9TyNYVJLwG17Lt93uNXqYLpKj",
      "include_colab_link": true
    },
    "kernelspec": {
      "name": "python3",
      "display_name": "Python 3"
    },
    "language_info": {
      "name": "python"
    }
  },
  "cells": [
    {
      "cell_type": "markdown",
      "metadata": {
        "id": "view-in-github",
        "colab_type": "text"
      },
      "source": [
        "<a href=\"https://colab.research.google.com/github/clovesrocha/estruturadedados_uninassauolinda/blob/main/aula3_estdados.ipynb\" target=\"_parent\"><img src=\"https://colab.research.google.com/assets/colab-badge.svg\" alt=\"Open In Colab\"/></a>"
      ]
    },
    {
      "cell_type": "code",
      "execution_count": null,
      "metadata": {
        "id": "lYQFafXYQMLw"
      },
      "outputs": [],
      "source": [
        "'''# UNINASSAU OLINDA - SI 2P\n",
        "# COMENTÁRIOS DE MAIS LINHAS'''\n",
        "# Estruturas condicionais (if, else, elif).\n",
        "# Operadores relacionais e lógicos (and, or, not).\n",
        "# Laços de repetição (for, while).\n",
        "# Funções input() e range().\n"
      ]
    },
    {
      "cell_type": "code",
      "source": [],
      "metadata": {
        "id": "KOVTzVq-Vhvy"
      },
      "execution_count": null,
      "outputs": []
    },
    {
      "cell_type": "code",
      "source": [
        "print('Olá, mundo!')"
      ],
      "metadata": {
        "colab": {
          "base_uri": "https://localhost:8080/"
        },
        "id": "IFFVCB8FSR-C",
        "outputId": "2c201485-60a3-4fd4-b9c9-653d273f149f"
      },
      "execution_count": 4,
      "outputs": [
        {
          "output_type": "stream",
          "name": "stdout",
          "text": [
            "Olá, mundo!\n"
          ]
        }
      ]
    },
    {
      "cell_type": "code",
      "source": [
        "idade = 16\n",
        "if idade >= 18:\n",
        "    print('Você pode tirar sua habilitação!')\n",
        ""
      ],
      "metadata": {
        "id": "UPWPVW3_Sl1Z"
      },
      "execution_count": 7,
      "outputs": []
    },
    {
      "cell_type": "code",
      "source": [
        "idade = 16\n",
        "if idade >= 18:\n",
        "    print('Você pode tirar sua habilitação!')\n",
        "else:\n",
        "    print('Você ainda é menor de idade!')\n",
        ""
      ],
      "metadata": {
        "colab": {
          "base_uri": "https://localhost:8080/"
        },
        "id": "4Z6BMX0FUB-s",
        "outputId": "44d6bd1d-0202-49df-a011-b96473ad1d84"
      },
      "execution_count": 8,
      "outputs": [
        {
          "output_type": "stream",
          "name": "stdout",
          "text": [
            "Você ainda é menor de idade!\n"
          ]
        }
      ]
    },
    {
      "cell_type": "code",
      "source": [
        "nota = 70\n",
        "if nota >= 90:\n",
        "    print('Parabéns! Excelente!')\n",
        "elif nota >= 70:\n",
        "    print('Muito bom! Aprovado!')\n",
        "else:\n",
        "    print('Precisa estudar mais.')"
      ],
      "metadata": {
        "colab": {
          "base_uri": "https://localhost:8080/"
        },
        "id": "Q5Ng6KUGUcVA",
        "outputId": "38faff2b-c12e-41d8-9d41-24f52ce0bac6"
      },
      "execution_count": 14,
      "outputs": [
        {
          "output_type": "stream",
          "name": "stdout",
          "text": [
            "Muito bom! Aprovado!\n"
          ]
        }
      ]
    },
    {
      "cell_type": "code",
      "source": [
        "nome = input('Qual é o seu nome?')\n",
        "print(nome)"
      ],
      "metadata": {
        "colab": {
          "base_uri": "https://localhost:8080/"
        },
        "id": "q_1yIe-VVi-n",
        "outputId": "64c0a73c-8e51-4f89-f759-c9356b38403c"
      },
      "execution_count": 16,
      "outputs": [
        {
          "output_type": "stream",
          "name": "stdout",
          "text": [
            "Qual é o seu nome?Prof. Cloves\n",
            "Prof. Cloves\n"
          ]
        }
      ]
    },
    {
      "cell_type": "code",
      "source": [
        "nome = input(\"Qual é o seu nome? \")\n",
        "print(f\"Olá, {nome}!\")\n",
        "\n",
        "numero_str = input(\"Digite um número: \")\n",
        "numero_int = int(numero_str) # Converte para número inteiro\n",
        "print(f\"O número digitado + 5 é: {numero_int + 5}\")"
      ],
      "metadata": {
        "colab": {
          "base_uri": "https://localhost:8080/"
        },
        "id": "D3NXwOFZV8O2",
        "outputId": "8c698295-3523-4965-f833-c6f40d5be206"
      },
      "execution_count": 18,
      "outputs": [
        {
          "output_type": "stream",
          "name": "stdout",
          "text": [
            "Qual é o seu nome? Prof. Cloves\n",
            "Olá, Prof. Cloves!\n",
            "Digite um número: 22\n",
            "O número digitado + 5 é: 27\n"
          ]
        }
      ]
    },
    {
      "cell_type": "markdown",
      "source": [],
      "metadata": {
        "id": "pJJxf0fDSLY7"
      }
    }
  ]
}